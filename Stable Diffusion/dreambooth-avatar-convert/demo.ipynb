{
 "cells": [
  {
   "cell_type": "code",
   "execution_count": 3,
   "metadata": {},
   "outputs": [
    {
     "ename": "ModuleNotFoundError",
     "evalue": "No module named 'diffusers'",
     "output_type": "error",
     "traceback": [
      "\u001b[0;31m---------------------------------------------------------------------------\u001b[0m",
      "\u001b[0;31mModuleNotFoundError\u001b[0m                       Traceback (most recent call last)",
      "Cell \u001b[0;32mIn[3], line 2\u001b[0m\n\u001b[1;32m      1\u001b[0m \u001b[39mimport\u001b[39;00m \u001b[39mtorch\u001b[39;00m\n\u001b[0;32m----> 2\u001b[0m \u001b[39mfrom\u001b[39;00m \u001b[39mdiffusers\u001b[39;00m \u001b[39mimport\u001b[39;00m StableDiffusionPipeline\n\u001b[1;32m      3\u001b[0m \u001b[39mfrom\u001b[39;00m \u001b[39mtorch\u001b[39;00m \u001b[39mimport\u001b[39;00m autocast\n\u001b[1;32m      5\u001b[0m pipe \u001b[39m=\u001b[39m StableDiffusionPipeline\u001b[39m.\u001b[39mfrom_pretrained(\u001b[39m\"\u001b[39m\u001b[39mlambdalabs/dreambooth-avatar\u001b[39m\u001b[39m\"\u001b[39m, torch_dtype\u001b[39m=\u001b[39mtorch\u001b[39m.\u001b[39mfloat16)  \n",
      "\u001b[0;31mModuleNotFoundError\u001b[0m: No module named 'diffusers'"
     ]
    }
   ],
   "source": [
    "import torch\n",
    "from diffusers import StableDiffusionPipeline\n",
    "from torch import autocast\n",
    "\n",
    "pipe = StableDiffusionPipeline.from_pretrained(\"lambdalabs/dreambooth-avatar\", torch_dtype=torch.float16)  \n",
    "pipe = pipe.to(\"cuda\")\n",
    "\n",
    "prompt = \"Yoda, avatarart style\"\n",
    "scale = 7.5\n",
    "n_samples = 4\n",
    "\n",
    "with autocast(\"cuda\"):\n",
    "  images = pipe(n_samples*[prompt], guidance_scale=scale).images\n",
    "\n",
    "for idx, im in enumerate(images):\n",
    "  im.save(f\"{idx:06}.png\")\n"
   ]
  },
  {
   "cell_type": "code",
   "execution_count": 7,
   "metadata": {},
   "outputs": [
    {
     "name": "stdout",
     "output_type": "stream",
     "text": [
      " v1_4_model\n",
      "https://huggingface.co/ckpt/sd15/resolve/main/v1-5-pruned-emaonly.ckpt v1_5_model\n",
      "xxx\n",
      " v1_5_inpainting_model\n",
      " F222_model\n",
      " DreamShaper_model\n",
      " OpenJourney_model\n",
      " Anything_v3_model\n",
      " Inkpunk_Diffusion_model\n",
      " instruct_pix2pix_model\n",
      "{'model_url': 'https://huggingface.co/stabilityai/stable-diffusion-2-1/resolve/main/v2-1_768-ema-pruned.ckpt', 'yaml': 'https://raw.githubusercontent.com/Stability-AI/stablediffusion/main/configs/stable-diffusion/v2-inference-v.yaml', 'name': 'v2-1_768-ema-pruned'} v2_1_768_model\n",
      "vvv\n",
      "None v2_1_512_model\n",
      "None v2_depth_model\n"
     ]
    }
   ],
   "source": [
    "v1_4_model = False #@param{type: \"boolean\"}\n",
    "v1_5_model = True #@param{type: \"boolean\"}\n",
    "v1_5_inpainting_model = False #@param{type: \"boolean\"}\n",
    "F222_model = False #@param{type: \"boolean\"}\n",
    "DreamShaper_model = False #@param{type: \"boolean\"}\n",
    "OpenJourney_model = False #@param{type: \"boolean\"}\n",
    "Anything_v3_model = False #@param{type: \"boolean\"}\n",
    "Inkpunk_Diffusion_model = False #@param{type: \"boolean\"}\n",
    "instruct_pix2pix_model = False #@param{type: \"boolean\"}\n",
    "\n",
    "#@markdown ### v2 models:\n",
    "v2_1_768_model = True #@param{type: \"boolean\"}\n",
    "v2_1_512_model = False #@param{type: \"boolean\"}\n",
    "v2_depth_model = False #@param{type: \"boolean\"}\n",
    "\n",
    "modles_v1 = {\n",
    "  'v1_4_model' : 'https://huggingface.co/CompVis/stable-diffusion-v-1-4-original/resolve/main/sd-v1-4.ckpt' if v1_4_model else  '',\n",
    "  'v1_5_model': 'https://huggingface.co/ckpt/sd15/resolve/main/v1-5-pruned-emaonly.ckpt' if v1_5_model else '',\n",
    "  'v1_5_inpainting_model': 'https://huggingface.co/runwayml/stable-diffusion-inpainting/resolve/main/sd-v1-5-inpainting.ckpt' if v1_5_inpainting_model else '',\n",
    "  'F222_model': 'https://huggingface.co/acheong08/f222/resolve/main/f222.ckpt' if F222_model else '',\n",
    "  'DreamShaper_model': 'https://huggingface.co/Lykon/DreamShaper/resolve/main/Dreamshaper_3.32_baked_vae_clip_fix_half.ckpt' if DreamShaper_model else '',\n",
    "  'OpenJourney_model': 'https://huggingface.co/prompthero/openjourney/resolve/main/mdjrny-v4.ckpt' if OpenJourney_model else '',\n",
    "  'Anything_v3_model': 'https://huggingface.co/Linaqruf/anything-v3.0/resolve/main/anything-v3-fp16-pruned.safetensors' if Anything_v3_model else '',\n",
    "  'Inkpunk_Diffusion_model': 'https://huggingface.co/Envvi/Inkpunk-Diffusion/resolve/main/Inkpunk-Diffusion-v2.ckpt' if Inkpunk_Diffusion_model else '',\n",
    "  'instruct_pix2pix_model': 'https://huggingface.co/timbrooks/instruct-pix2pix/resolve/main/instruct-pix2pix-00-22000.ckpt' if instruct_pix2pix_model else '',\n",
    "}\n",
    "\n",
    "modles_v2 = {\n",
    "  'v2_1_768_model' :  {\n",
    "      'model_url': 'https://huggingface.co/stabilityai/stable-diffusion-2-1/resolve/main/v2-1_768-ema-pruned.ckpt',\n",
    "      'yaml': 'https://raw.githubusercontent.com/Stability-AI/stablediffusion/main/configs/stable-diffusion/v2-inference-v.yaml',\n",
    "      'name': 'v2-1_768-ema-pruned'\n",
    "  } if v2_1_768_model else None,\n",
    "  'v2_1_512_model': {\n",
    "      'model_url': 'https://huggingface.co/stabilityai/stable-diffusion-2-1-base/resolve/main/v2-1_512-ema-pruned.ckpt',\n",
    "      'yaml': 'https://raw.githubusercontent.com/Stability-AI/stablediffusion/main/configs/stable-diffusion/v2-inference.yaml',\n",
    "      'name': 'v2-1_512-ema-pruned',\n",
    "  } if v2_1_512_model else None,\n",
    "  'v2_depth_model': {\n",
    "      'model_url': 'https://huggingface.co/stabilityai/stable-diffusion-2-depth/resolve/main/512-depth-ema.ckpt',\n",
    "      'yaml': 'https://raw.githubusercontent.com/Stability-AI/stablediffusion/main/configs/stable-diffusion/v2-midas-inference.yaml',\n",
    "      'name': '512-depth-ema',\n",
    "  } if v2_depth_model else None,\n",
    "}\n",
    "\n",
    "for key,value in  modles_v1.items():\n",
    "    print(value, key)\n",
    "    if value:\n",
    "        print('xxx')\n",
    "  \n",
    "for key,value in  modles_v2.items():\n",
    "    print(value, key)\n",
    "    if value:\n",
    "        print('vvv')"
   ]
  },
  {
   "cell_type": "code",
   "execution_count": null,
   "metadata": {},
   "outputs": [],
   "source": [
    "!aria2c https://huggingface.co/webui/ControlNet-modules-safetensors/resolve/main/control_canny-fp16.safetensors\n",
    "!aria2c https://huggingface.co/webui/ControlNet-modules-safetensors/resolve/main/control_depth-fp16.safetensors\n",
    "!aria2c https://huggingface.co/webui/ControlNet-modules-safetensors/resolve/main/control_hed-fp16.safetensors\n",
    "!aria2c https://huggingface.co/webui/ControlNet-modules-safetensors/resolve/main/control_mlsd-fp16.safetensors\n",
    "!aria2c https://huggingface.co/webui/ControlNet-modules-safetensors/resolve/main/control_normal-fp16.safetensors\n",
    "!aria2c https://huggingface.co/webui/ControlNet-modules-safetensors/resolve/main/control_openpose-fp16.safetensors\n",
    "!aria2c https://huggingface.co/webui/ControlNet-modules-safetensors/resolve/main/control_scribble-fp16.safetensors\n",
    "!wget https://huggingface.co/webui/ControlNet-modules-safetensors/resolve/main/control_seg-fp16.safetensors \n",
    "\n",
    "\n",
    "!wget https://huggingface.co/ckpt/ControlNet/resolve/main/hand_pose_model.pth\n",
    "!aria2c https://huggingface.co/ckpt/ControlNet/resolve/main/body_pose_model.pth\n",
    "!aria2c https://huggingface.co/ckpt/ControlNet/resolve/main/dpt_hybrid-midas-501f0c75.pt\n",
    "!aria2c https://huggingface.co/ckpt/ControlNet/resolve/main/mlsd_large_512_fp32.pth\n",
    "!aria2c https://huggingface.co/ckpt/ControlNet/resolve/main/mlsd_tiny_512_fp32.pth\n",
    "!aria2c https://huggingface.co/ckpt/ControlNet/resolve/main/network-bsds500.pth\n",
    "!aria2c https://huggingface.co/ckpt/ControlNet/resolve/main/upernet_global_small.pth -d /content/stable-diffusion-webui/extensions/sd-webui-controlnet/annotator/uniformer"
   ]
  },
  {
   "cell_type": "code",
   "execution_count": null,
   "metadata": {},
   "outputs": [],
   "source": [
    "\n",
    "!aria2c --console-log-level=error -c -x 16 -s 16 -k 1M https://huggingface.co/stabilityai/sd-vae-ft-ema-original/resolve/main/vae-ft-ema-560000-ema-pruned.ckpt -d /content/stable-diffusion-webui/models/VAE/ -o vae-ft-ema-560000-ema-pruned.ckpt\n",
    "\n",
    "!aria2c --console-log-level=error -c -x 16 -s 16 -k 1M https://huggingface.co/stabilityai/sd-vae-ft-mse-original/resolve/main/vae-ft-mse-840000-ema-pruned.ckpt -d /content/stable-diffusion-webui/models/VAE/ -o vae-ft-mse-840000-ema-pruned.ckpt"
   ]
  }
 ],
 "metadata": {
  "kernelspec": {
   "display_name": "diffusers",
   "language": "python",
   "name": "python3"
  },
  "language_info": {
   "codemirror_mode": {
    "name": "ipython",
    "version": 3
   },
   "file_extension": ".py",
   "mimetype": "text/x-python",
   "name": "python",
   "nbconvert_exporter": "python",
   "pygments_lexer": "ipython3",
   "version": "3.10.9"
  },
  "orig_nbformat": 4
 },
 "nbformat": 4,
 "nbformat_minor": 2
}
